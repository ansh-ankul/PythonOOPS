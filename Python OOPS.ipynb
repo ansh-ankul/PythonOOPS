{
 "cells": [
  {
   "cell_type": "markdown",
   "id": "23569d4c",
   "metadata": {},
   "source": [
    "# Python: OOPS Concepts"
   ]
  },
  {
   "cell_type": "markdown",
   "id": "559d2b19",
   "metadata": {},
   "source": [
    "## Classes and Objects"
   ]
  },
  {
   "cell_type": "code",
   "execution_count": 2,
   "id": "67593090",
   "metadata": {},
   "outputs": [],
   "source": [
    "class car:           # Class Definition\n",
    "    pass"
   ]
  },
  {
   "cell_type": "code",
   "execution_count": 3,
   "id": "1d45da7a",
   "metadata": {},
   "outputs": [],
   "source": [
    "maruti = car()       # Object Definition"
   ]
  },
  {
   "cell_type": "code",
   "execution_count": 5,
   "id": "1a0a2781",
   "metadata": {},
   "outputs": [],
   "source": [
    "maruti.mileage = 29\n",
    "maruti.year = 3422\n",
    "maruti.make = 283\n",
    "maruti.model = \"Q7\""
   ]
  },
  {
   "cell_type": "code",
   "execution_count": 6,
   "id": "f971e0a2",
   "metadata": {},
   "outputs": [
    {
     "data": {
      "text/plain": [
       "3422"
      ]
     },
     "execution_count": 6,
     "metadata": {},
     "output_type": "execute_result"
    }
   ],
   "source": [
    "maruti.year         # Accessing an object"
   ]
  },
  {
   "cell_type": "code",
   "execution_count": 1,
   "id": "6853f76e",
   "metadata": {},
   "outputs": [],
   "source": [
    "class car:          # initialization of data\n",
    "    def __init__(self, mileage, year, make, model):       # Contructor\n",
    "        self.mileage = mileage\n",
    "        self.year = year\n",
    "        self.make = make     # Instance\n",
    "        self.model = model\n",
    "    \n",
    "    def age(self, curr_year):      # Member Function\n",
    "        return curr_year - self.year\n",
    "    \n",
    "    def __str__(x):\n",
    "        return \"This is my car class\""
   ]
  },
  {
   "cell_type": "code",
   "execution_count": 2,
   "id": "20b6cf2c",
   "metadata": {},
   "outputs": [],
   "source": [
    "audir8 = car(20,1239,238,\"sajk\")\n",
    "maruti800 = car(29,2138,123, \"skda\")"
   ]
  },
  {
   "cell_type": "code",
   "execution_count": 16,
   "id": "12b841e5",
   "metadata": {},
   "outputs": [
    {
     "name": "stdout",
     "output_type": "stream",
     "text": [
      "20 29\n"
     ]
    }
   ],
   "source": [
    "print(audir8.mileage, maruti800.mileage)"
   ]
  },
  {
   "cell_type": "code",
   "execution_count": 19,
   "id": "b2d577b8",
   "metadata": {},
   "outputs": [
    {
     "data": {
      "text/plain": [
       "939"
      ]
     },
     "execution_count": 19,
     "metadata": {},
     "output_type": "execute_result"
    }
   ],
   "source": [
    "audir8.age(2178)      # Function call"
   ]
  },
  {
   "cell_type": "code",
   "execution_count": 4,
   "id": "2004af7a",
   "metadata": {},
   "outputs": [
    {
     "name": "stdout",
     "output_type": "stream",
     "text": [
      "This is my car class\n"
     ]
    }
   ],
   "source": [
    "print(audir8)    # __str__() function"
   ]
  },
  {
   "cell_type": "code",
   "execution_count": 20,
   "id": "47338399",
   "metadata": {},
   "outputs": [],
   "source": [
    "class student:\n",
    "    def __init__(self, name, rno, subject):\n",
    "        self.name = name\n",
    "        self.rno = rno\n",
    "        self.subject = subject\n",
    "        \n",
    "    def parseName(self):\n",
    "        if type(self.name)== list:\n",
    "            for i in self.name:\n",
    "                print(\"Name:\", i)\n",
    "                \n",
    "    def getRno(self):\n",
    "        print(self.rno)\n",
    "    \n",
    "    def __str__(self):\n",
    "        return \"This is an object of student class\"\n",
    "    "
   ]
  },
  {
   "cell_type": "code",
   "execution_count": 14,
   "id": "a6b0a570",
   "metadata": {},
   "outputs": [],
   "source": [
    "a = student(\"ansh\", 20, \"Data Science\")"
   ]
  },
  {
   "cell_type": "code",
   "execution_count": 15,
   "id": "ac4899d4",
   "metadata": {},
   "outputs": [
    {
     "name": "stdout",
     "output_type": "stream",
     "text": [
      "20\n"
     ]
    }
   ],
   "source": [
    "a.getRno()"
   ]
  },
  {
   "cell_type": "code",
   "execution_count": 16,
   "id": "f18b86c3",
   "metadata": {},
   "outputs": [
    {
     "name": "stdout",
     "output_type": "stream",
     "text": [
      "This is an object of student class\n"
     ]
    }
   ],
   "source": [
    "print(a)"
   ]
  },
  {
   "cell_type": "code",
   "execution_count": 22,
   "id": "04724351",
   "metadata": {},
   "outputs": [],
   "source": [
    "b = student([\"Ansh\", \"ankul\", \"Ram\", \"Raj\"], [1,2,3,4], [\"ds\",\"ds\",\"ds\",\"ds\"])"
   ]
  },
  {
   "cell_type": "code",
   "execution_count": 23,
   "id": "6de7cd54",
   "metadata": {},
   "outputs": [
    {
     "name": "stdout",
     "output_type": "stream",
     "text": [
      "Name: Ansh\n",
      "Name: ankul\n",
      "Name: Ram\n",
      "Name: Raj\n"
     ]
    }
   ],
   "source": [
    "b.parseName()"
   ]
  },
  {
   "cell_type": "markdown",
   "id": "7a5c6b48",
   "metadata": {},
   "source": [
    "## Encapsulation and Abstraction"
   ]
  },
  {
   "cell_type": "markdown",
   "id": "23f08a12",
   "metadata": {},
   "source": [
    "**Abstraction** is the method of hiding the unwanted information. Whereas **encapsulation** is a method to hide the data in a single entity or unit(For example a class) along with a method to protect information from outside."
   ]
  },
  {
   "cell_type": "code",
   "execution_count": 4,
   "id": "c3dcb119",
   "metadata": {},
   "outputs": [],
   "source": [
    "class test:\n",
    "    def __init__(self,a,b,c,d):\n",
    "        self.__a = a             # private variable\n",
    "        self._b = b              # protected variable\n",
    "        self.c = c               # public variable\n",
    "        self.d = d\n",
    "    \n",
    "    def test_custom(self,v):\n",
    "        return v - self.__a\n",
    "    \n",
    "    def __str__():\n",
    "        return \"This is my example code for abstraction\""
   ]
  },
  {
   "cell_type": "code",
   "execution_count": 5,
   "id": "0be70d06",
   "metadata": {},
   "outputs": [],
   "source": [
    "obj = test(1,2,3,4)"
   ]
  },
  {
   "cell_type": "code",
   "execution_count": 6,
   "id": "cd2603a1",
   "metadata": {},
   "outputs": [
    {
     "ename": "AttributeError",
     "evalue": "'test' object has no attribute '__a'",
     "output_type": "error",
     "traceback": [
      "\u001b[1;31m---------------------------------------------------------------------------\u001b[0m",
      "\u001b[1;31mAttributeError\u001b[0m                            Traceback (most recent call last)",
      "Input \u001b[1;32mIn [6]\u001b[0m, in \u001b[0;36m<cell line: 1>\u001b[1;34m()\u001b[0m\n\u001b[1;32m----> 1\u001b[0m \u001b[43mobj\u001b[49m\u001b[38;5;241;43m.\u001b[39;49m\u001b[43m__a\u001b[49m\n",
      "\u001b[1;31mAttributeError\u001b[0m: 'test' object has no attribute '__a'"
     ]
    }
   ],
   "source": [
    "obj.__a "
   ]
  },
  {
   "cell_type": "code",
   "execution_count": 7,
   "id": "1336855f",
   "metadata": {},
   "outputs": [
    {
     "data": {
      "text/plain": [
       "1"
      ]
     },
     "execution_count": 7,
     "metadata": {},
     "output_type": "execute_result"
    }
   ],
   "source": [
    "obj._test__a"
   ]
  },
  {
   "cell_type": "markdown",
   "id": "e1f32c0c",
   "metadata": {},
   "source": [
    "- Python doesn't apply strict abstraction. Here, we have ways to call even a private variable outside a class(For example in the above code block)."
   ]
  },
  {
   "cell_type": "code",
   "execution_count": 54,
   "id": "1a06d67c",
   "metadata": {},
   "outputs": [],
   "source": [
    "class t1:\n",
    "    def __init__(self,a,b,c):\n",
    "        self.a=a\n",
    "        self.b=b\n",
    "        self.c=c\n",
    "    def __str__(self):\n",
    "        return \"Test 1\"\n",
    "    \n",
    "class t2:\n",
    "    def __init__(self,a,b,c):\n",
    "        self.a=a\n",
    "        self.b=b\n",
    "        self.c=c\n",
    "    def __str__(self):\n",
    "        return \"Test 2\"\n",
    "    \n",
    "class t3:\n",
    "    def __init__(self,a,b,c):\n",
    "        self.a=a\n",
    "        self.b=b\n",
    "        self.c=c\n",
    "    def __str__(self):\n",
    "        return \"Test 3\"\n",
    "\n",
    "class final:\n",
    "    def __init__(self,x,y,z):\n",
    "        self.x=x\n",
    "        self.y=y\n",
    "        self.z=z\n",
    "        \n",
    "    def __str__(self):\n",
    "        return str(self.x)+\" \"+str(self.y)+\" \"+str(self.z)"
   ]
  },
  {
   "cell_type": "code",
   "execution_count": 55,
   "id": "33921569",
   "metadata": {},
   "outputs": [],
   "source": [
    "o1= t1(1,2,3)\n",
    "o2= t2(4,5,6)\n",
    "o3= t3(7,8,9)\n",
    "f = final(o1,o2,o3)"
   ]
  },
  {
   "cell_type": "code",
   "execution_count": 56,
   "id": "07bc5339",
   "metadata": {},
   "outputs": [
    {
     "name": "stdout",
     "output_type": "stream",
     "text": [
      "Test 1 Test 2 Test 3\n"
     ]
    }
   ],
   "source": [
    "print(f)"
   ]
  },
  {
   "cell_type": "markdown",
   "id": "33747d7e",
   "metadata": {},
   "source": [
    "## Inheritance"
   ]
  },
  {
   "cell_type": "markdown",
   "id": "bf72a926",
   "metadata": {},
   "source": [
    "**Access Modifiers in Python**"
   ]
  },
  {
   "cell_type": "markdown",
   "id": "d16f0acc",
   "metadata": {},
   "source": [
    "- **Public:** The members of a class that are declared public are easily accessible from any part of the program. All data members and member functions of a class are public by default.\n",
    "\n",
    "- **Protected:** The members of a class that are declared protected are only accessible to a class derived from it.\n",
    "\n",
    "- **Private:** The members of a class that are declared private are accessible within the class only, private access modifier is the most secure access modifier."
   ]
  },
  {
   "cell_type": "code",
   "execution_count": 11,
   "id": "bb614d5f",
   "metadata": {},
   "outputs": [],
   "source": [
    "class testChild(test):                     #Inherited child class\n",
    "    def __init__(self, j, *args):\n",
    "        super(testChild, self).__init__(*args)\n",
    "        self.j = j"
   ]
  },
  {
   "cell_type": "code",
   "execution_count": 29,
   "id": "3dd4a9c6",
   "metadata": {},
   "outputs": [],
   "source": [
    "m = testChild(4,55,6,7,8)"
   ]
  },
  {
   "cell_type": "code",
   "execution_count": 30,
   "id": "87765916",
   "metadata": {},
   "outputs": [
    {
     "data": {
      "text/plain": [
       "4"
      ]
     },
     "execution_count": 30,
     "metadata": {},
     "output_type": "execute_result"
    }
   ],
   "source": [
    "m.j"
   ]
  },
  {
   "cell_type": "code",
   "execution_count": 31,
   "id": "25e07ae4",
   "metadata": {},
   "outputs": [
    {
     "data": {
      "text/plain": [
       "6"
      ]
     },
     "execution_count": 31,
     "metadata": {},
     "output_type": "execute_result"
    }
   ],
   "source": [
    "m.b"
   ]
  },
  {
   "cell_type": "code",
   "execution_count": 32,
   "id": "10e251ef",
   "metadata": {},
   "outputs": [
    {
     "data": {
      "text/plain": [
       "7"
      ]
     },
     "execution_count": 32,
     "metadata": {},
     "output_type": "execute_result"
    }
   ],
   "source": [
    "m.c"
   ]
  },
  {
   "cell_type": "code",
   "execution_count": 33,
   "id": "044c1dd2",
   "metadata": {},
   "outputs": [
    {
     "data": {
      "text/plain": [
       "8"
      ]
     },
     "execution_count": 33,
     "metadata": {},
     "output_type": "execute_result"
    }
   ],
   "source": [
    "m.d"
   ]
  },
  {
   "cell_type": "code",
   "execution_count": 34,
   "id": "0d60715a",
   "metadata": {},
   "outputs": [
    {
     "data": {
      "text/plain": [
       "55"
      ]
     },
     "execution_count": 34,
     "metadata": {},
     "output_type": "execute_result"
    }
   ],
   "source": [
    "m._test__a"
   ]
  },
  {
   "cell_type": "markdown",
   "id": "cf759e7c",
   "metadata": {},
   "source": [
    "**Q. Create a class with two parent classes having a function with the same name  nd try to access those functions.** "
   ]
  },
  {
   "cell_type": "code",
   "execution_count": 50,
   "id": "2b5cf393",
   "metadata": {},
   "outputs": [],
   "source": [
    "class test1:\n",
    "    def __init__(self, a, b):\n",
    "        self.__a = a\n",
    "        self.__b = b\n",
    "    \n",
    "    def fun(self):\n",
    "        print(\"Function 1 accessed!\")\n",
    "        \n",
    "class test2:\n",
    "    def __init__(self, a, b):\n",
    "        self.__a = a\n",
    "        self.__b = b\n",
    "    \n",
    "    def fun(self):\n",
    "        print(\"Function 2 accessed!\")\n",
    "        \n",
    "class test3(test1 , test2):\n",
    "    def __init__(self,c , *args):\n",
    "        super(test3, self).__init__(*args)\n",
    "        self.__c = c\n",
    "    def a(self):\n",
    "        test1.fun(self)\n",
    "        test2.fun(self)"
   ]
  },
  {
   "cell_type": "code",
   "execution_count": 51,
   "id": "e98977c1",
   "metadata": {},
   "outputs": [],
   "source": [
    "o = test3(1,2,3)"
   ]
  },
  {
   "cell_type": "code",
   "execution_count": 52,
   "id": "9be8b8f5",
   "metadata": {},
   "outputs": [
    {
     "name": "stdout",
     "output_type": "stream",
     "text": [
      "Function 1 accessed!\n",
      "Function 2 accessed!\n"
     ]
    }
   ],
   "source": [
    "o.a()"
   ]
  },
  {
   "cell_type": "markdown",
   "id": "c7a54587",
   "metadata": {},
   "source": [
    "**Types of Inheritance**"
   ]
  },
  {
   "cell_type": "markdown",
   "id": "1db37051",
   "metadata": {},
   "source": [
    "- Single\n",
    "- Multiple\n",
    "- Multilevel\n",
    "- Hierarchical"
   ]
  },
  {
   "cell_type": "markdown",
   "id": "e03b13f4",
   "metadata": {},
   "source": [
    "**A few examples of Classes and objects**"
   ]
  },
  {
   "cell_type": "code",
   "execution_count": 1,
   "id": "a848772a",
   "metadata": {},
   "outputs": [],
   "source": [
    "class BonusDistribution:\n",
    "    def __init__(self, empId, empRating):\n",
    "        self.empId = empId\n",
    "        self.empRating = empRating\n",
    "        self.__bonusforRatingA = \"70%\"\n",
    "        self.__bonusforRatingB = \"60%\"\n",
    "        self.__bonusforRatingC = \"50%\"\n",
    "        self.__bonusforRatingD = \"40%\"\n",
    "        self.__bonusforRatingRest = \"No Bonus\"\n",
    "        \n",
    "    def bonusCalculator(self):\n",
    "        if self.empRating == 'A':\n",
    "            bonus = self.__bonusforRatingA\n",
    "            msg = \"Bonus for this employee is: \"+bonus\n",
    "            return msg\n",
    "        \n",
    "        elif self.empRating == 'B':\n",
    "            bonus = self.__bonusforRatingB\n",
    "            msg = \"Bonus for this employee is: \"+bonus\n",
    "            return msg\n",
    "        \n",
    "        elif self.empRating == 'C':\n",
    "            bonus = self.__bonusforRatingC\n",
    "            msg = \"Bonus for this employee is: \"+bonus\n",
    "            return msg\n",
    "        \n",
    "        elif self.empRating == 'D':\n",
    "            bonus = self.__bonusforRatingD\n",
    "            msg = \"Bonus for this employee is: \"+bonus\n",
    "            return msg\n",
    "        \n",
    "        else:\n",
    "            bonus = self.__bonusforRatingRest\n",
    "            msg = \"Bonus for this employee is: \"+bonus\n",
    "            return msg"
   ]
  },
  {
   "cell_type": "code",
   "execution_count": 2,
   "id": "9b5a9f50",
   "metadata": {},
   "outputs": [],
   "source": [
    "emp1 = BonusDistribution(1132, 'B')\n",
    "emp2 = BonusDistribution(1232, 'A')\n",
    "emp3 = BonusDistribution(1332, 'E')"
   ]
  },
  {
   "cell_type": "code",
   "execution_count": 3,
   "id": "f67751e2",
   "metadata": {},
   "outputs": [
    {
     "data": {
      "text/plain": [
       "'Bonus for this employee is: No Bonus'"
      ]
     },
     "execution_count": 3,
     "metadata": {},
     "output_type": "execute_result"
    }
   ],
   "source": [
    "emp3.bonusCalculator()"
   ]
  },
  {
   "cell_type": "code",
   "execution_count": 4,
   "id": "67e2fef5",
   "metadata": {},
   "outputs": [
    {
     "data": {
      "text/plain": [
       "'Bonus for this employee is: 70%'"
      ]
     },
     "execution_count": 4,
     "metadata": {},
     "output_type": "execute_result"
    }
   ],
   "source": [
    "emp2.bonusCalculator()"
   ]
  },
  {
   "cell_type": "code",
   "execution_count": 5,
   "id": "99e55656",
   "metadata": {},
   "outputs": [
    {
     "data": {
      "text/plain": [
       "'Bonus for this employee is: 60%'"
      ]
     },
     "execution_count": 5,
     "metadata": {},
     "output_type": "execute_result"
    }
   ],
   "source": [
    "emp1.bonusCalculator()"
   ]
  },
  {
   "cell_type": "code",
   "execution_count": 6,
   "id": "3db3c21b",
   "metadata": {},
   "outputs": [
    {
     "data": {
      "text/plain": [
       "'Bonus for this employee is: 60%'"
      ]
     },
     "execution_count": 6,
     "metadata": {},
     "output_type": "execute_result"
    }
   ],
   "source": [
    "emp1.__bonusforRatingB = \"65%\"\n",
    "emp1.bonusCalculator()"
   ]
  },
  {
   "cell_type": "code",
   "execution_count": 7,
   "id": "fea001be",
   "metadata": {},
   "outputs": [
    {
     "data": {
      "text/plain": [
       "'Bonus for this employee is: 65%'"
      ]
     },
     "execution_count": 7,
     "metadata": {},
     "output_type": "execute_result"
    }
   ],
   "source": [
    "emp1._BonusDistribution__bonusforRatingB = \"65%\"\n",
    "emp1.bonusCalculator()"
   ]
  },
  {
   "cell_type": "code",
   "execution_count": 9,
   "id": "299a35d2",
   "metadata": {},
   "outputs": [
    {
     "data": {
      "text/plain": [
       "'Bonus for this employee is: 60%'"
      ]
     },
     "execution_count": 9,
     "metadata": {},
     "output_type": "execute_result"
    }
   ],
   "source": [
    "emp4 = BonusDistribution(1234, \"B\")\n",
    "emp4.bonusCalculator()"
   ]
  },
  {
   "cell_type": "markdown",
   "id": "e1fc523f",
   "metadata": {},
   "source": [
    "## Polymorphism"
   ]
  },
  {
   "cell_type": "markdown",
   "id": "0f907428",
   "metadata": {},
   "source": [
    "**Operator Overloading**"
   ]
  },
  {
   "cell_type": "code",
   "execution_count": 1,
   "id": "407253a8",
   "metadata": {},
   "outputs": [],
   "source": [
    "class mult():\n",
    "    def __init__(self,a):\n",
    "        self.a = a\n",
    "        \n",
    "    def __mul__(self,  other):\n",
    "        return self.a +other.a"
   ]
  },
  {
   "cell_type": "code",
   "execution_count": 2,
   "id": "82aafcd8",
   "metadata": {},
   "outputs": [],
   "source": [
    "m = mult(10)\n",
    "m1 = mult(28)"
   ]
  },
  {
   "cell_type": "code",
   "execution_count": 3,
   "id": "4cd52a9e",
   "metadata": {},
   "outputs": [
    {
     "data": {
      "text/plain": [
       "38"
      ]
     },
     "execution_count": 3,
     "metadata": {},
     "output_type": "execute_result"
    }
   ],
   "source": [
    "m*m1"
   ]
  },
  {
   "cell_type": "markdown",
   "id": "b242783b",
   "metadata": {},
   "source": [
    "**Function Overloading**"
   ]
  },
  {
   "cell_type": "code",
   "execution_count": 5,
   "id": "287c023d",
   "metadata": {},
   "outputs": [],
   "source": [
    "def test(a,b):\n",
    "    return a+b"
   ]
  },
  {
   "cell_type": "code",
   "execution_count": 6,
   "id": "6221e5b2",
   "metadata": {},
   "outputs": [
    {
     "name": "stdout",
     "output_type": "stream",
     "text": [
      "12\n",
      "ashjbsakjf\n"
     ]
    }
   ],
   "source": [
    "print(test(10,2))\n",
    "print(test(\"ashjb\", \"sakjf\"))"
   ]
  }
 ],
 "metadata": {
  "kernelspec": {
   "display_name": "Python 3 (ipykernel)",
   "language": "python",
   "name": "python3"
  },
  "language_info": {
   "codemirror_mode": {
    "name": "ipython",
    "version": 3
   },
   "file_extension": ".py",
   "mimetype": "text/x-python",
   "name": "python",
   "nbconvert_exporter": "python",
   "pygments_lexer": "ipython3",
   "version": "3.9.12"
  }
 },
 "nbformat": 4,
 "nbformat_minor": 5
}
